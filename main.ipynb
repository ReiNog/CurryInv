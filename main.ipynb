{
 "cells": [
  {
   "cell_type": "markdown",
   "metadata": {},
   "source": [
    "\n",
    "# Finance Playground\n",
    "\n",
    "### Notebook dedicated to play with the financial functions that will be useful to investment management projects\n"
   ]
  },
  {
   "cell_type": "markdown",
   "metadata": {},
   "source": [
    "#### 1. CDI - Brazilian Interbank Deposit Rate - Using the functions that work with the CDI rate"
   ]
  },
  {
   "cell_type": "code",
   "execution_count": null,
   "metadata": {},
   "outputs": [],
   "source": [
    "import pandas as pd\n",
    "import bacen as bc\n",
    "import ir_calc as ir\n",
    "import cdi\n",
    "\n",
    "# Defite the full path where the csv file with the CDI historical values is stored\n",
    "db_cdi_file = 'D:\\Investiments\\Databases\\Indexes\\CDI.csv'\n"
   ]
  },
  {
   "cell_type": "markdown",
   "metadata": {},
   "source": [
    "   Update the CDI database with the most recent data - this must be done onde a day to keep the CDI database up to date"
   ]
  },
  {
   "cell_type": "code",
   "execution_count": null,
   "metadata": {},
   "outputs": [],
   "source": [
    "cdi.update_cdi_db(db_cdi_file)"
   ]
  },
  {
   "cell_type": "markdown",
   "metadata": {},
   "source": [
    "<p>Now we can play with the CDI rate</p>\n",
    "<p>First we load the CDI do a data frame</p>"
   ]
  },
  {
   "cell_type": "code",
   "execution_count": null,
   "metadata": {},
   "outputs": [],
   "source": [
    "df_cdi = cdi.load_cdi(db_cdi_file)\n"
   ]
  },
  {
   "cell_type": "markdown",
   "metadata": {},
   "source": [
    "Lets calculate the final amount of a deposit indexed to 100% of the CDI<br>\n",
    "Note that when the percentage = 100%, it is not necessary to inform it to the function cdi.cdi_accum()"
   ]
  },
  {
   "cell_type": "code",
   "execution_count": null,
   "metadata": {},
   "outputs": [],
   "source": [
    "\n",
    "initial_amount = 100000.00\n",
    "issue_date = pd.to_datetime('20220103')\n",
    "maturity_date = pd.to_datetime('20220801')\n",
    "\n",
    "maturity_amount = initial_amount * cdi.cdi_accum(df_cdi, issue_date, maturity_date)\n",
    "\n",
    "print(f'Final amount = ${maturity_amount:,.2f}')"
   ]
  },
  {
   "cell_type": "markdown",
   "metadata": {},
   "source": [
    "Now, lets find the final amount of a deposit indexed to 90% of the CDI<br>\n",
    "We need to inform the percentage to the function cdi.cdi_accum()"
   ]
  },
  {
   "cell_type": "code",
   "execution_count": null,
   "metadata": {},
   "outputs": [],
   "source": [
    "\n",
    "initial_amount = 100000.00\n",
    "percentage = 0.9\n",
    "issue_date = pd.to_datetime('20220103')\n",
    "maturity_date = pd.to_datetime('20220801')\n",
    "\n",
    "maturity_amount = initial_amount * cdi.cdi_accum(df_cdi, issue_date, maturity_date, percentage)\n",
    "\n",
    "print(f'Final amount = ${maturity_amount:,.2f}')"
   ]
  },
  {
   "cell_type": "markdown",
   "metadata": {},
   "source": [
    "#### 2. Selic - Brazilian monetary policy interest rate - Using the functions that work with the Selic rate\n",
    "\n",
    "##### Selic rate works the same way as the CDI rate, both are expressed as a percentage per annum, based on a two hundred fifty-two (252) business days year"
   ]
  },
  {
   "cell_type": "code",
   "execution_count": null,
   "metadata": {},
   "outputs": [],
   "source": [
    "import pandas as pd\n",
    "import bacen as bc\n",
    "import ir_calc as ir\n",
    "import selic\n",
    "\n",
    "# Defite the full path where the csv file with the CDI historical values is stored\n",
    "db_selic_file = 'D:\\Investiments\\Databases\\Indexes\\Selic.csv'\n"
   ]
  },
  {
   "cell_type": "markdown",
   "metadata": {},
   "source": [
    "   Update the CDI database with the most recent data - this must be done onde a day to keep the CDI database up to date"
   ]
  },
  {
   "cell_type": "code",
   "execution_count": null,
   "metadata": {},
   "outputs": [],
   "source": [
    "selic.update_selic_db(db_selic_file)"
   ]
  },
  {
   "cell_type": "markdown",
   "metadata": {},
   "source": [
    "<p>Now we can play with the Selic rate</p>\n",
    "<p>First we load the Selic do a data frame</p>"
   ]
  },
  {
   "cell_type": "code",
   "execution_count": null,
   "metadata": {},
   "outputs": [],
   "source": [
    "df_selic = selic.load_selic(db_selic_file)\n"
   ]
  },
  {
   "cell_type": "markdown",
   "metadata": {},
   "source": [
    "Lets calculate the final amount of a deposit indexed to 100% of the Selic<br>\n",
    "Note that when the percentage = 100%, it is not necessary to inform it to the function selic.selic_accum()"
   ]
  },
  {
   "cell_type": "code",
   "execution_count": null,
   "metadata": {},
   "outputs": [],
   "source": [
    "\n",
    "initial_amount = 100000.00\n",
    "issue_date = pd.to_datetime('20220103')\n",
    "maturity_date = pd.to_datetime('20220801')\n",
    "\n",
    "maturity_amount = initial_amount * selic.selic_accum(df_selic, issue_date, maturity_date)\n",
    "\n",
    "print(f'Final amount = ${maturity_amount:,.2f}')"
   ]
  },
  {
   "cell_type": "markdown",
   "metadata": {},
   "source": [
    "Now, lets find the final amount of a deposit indexed to 90% of the Selic<br>\n",
    "We need to inform the percentage to the function selic.selic_accum()"
   ]
  },
  {
   "cell_type": "code",
   "execution_count": null,
   "metadata": {},
   "outputs": [],
   "source": [
    "\n",
    "initial_amount = 100000.00\n",
    "percentage = 0.9\n",
    "issue_date = pd.to_datetime('20220103')\n",
    "maturity_date = pd.to_datetime('20220801')\n",
    "\n",
    "maturity_amount = initial_amount * selic.selic_accum(df_selic, issue_date, maturity_date, percentage)\n",
    "\n",
    "print(f'Final amount = ${maturity_amount:,.2f}')"
   ]
  },
  {
   "cell_type": "markdown",
   "metadata": {},
   "source": [
    "#### 3. Holydays and workdays\n",
    "\n",
    "##### Some functions to find next workday, calculate number of workdays between two dates, etc"
   ]
  },
  {
   "cell_type": "code",
   "execution_count": null,
   "metadata": {},
   "outputs": [],
   "source": [
    "import pandas as pd\n",
    "import br_workdays as brbd"
   ]
  },
  {
   "cell_type": "markdown",
   "metadata": {},
   "source": [
    "Calculating the number of business days between two dates"
   ]
  },
  {
   "cell_type": "code",
   "execution_count": null,
   "metadata": {},
   "outputs": [],
   "source": [
    "date1 = pd.to_datetime('2022-09-06')\n",
    "date2 = pd.to_datetime('2022-09-13')\n",
    "\n",
    "num_bdays = brbd.num_br_bdays(date1, date2)\n",
    "print(num_bdays)"
   ]
  },
  {
   "cell_type": "markdown",
   "metadata": {},
   "source": [
    "Finding the next business day - the default number of business days to add is 1, thus it is not necessary to pass 1 to the function"
   ]
  },
  {
   "cell_type": "code",
   "execution_count": null,
   "metadata": {},
   "outputs": [],
   "source": [
    "date3 = brbd.next_br_bday(date1)\n",
    "print (date3)"
   ]
  },
  {
   "cell_type": "markdown",
   "metadata": {},
   "source": [
    "Finding the date that is n bussines days forward"
   ]
  },
  {
   "cell_type": "code",
   "execution_count": null,
   "metadata": {},
   "outputs": [],
   "source": [
    "n = 3\n",
    "date3 = brbd.next_br_bday(date1,n)\n",
    "print (date3)"
   ]
  },
  {
   "cell_type": "markdown",
   "metadata": {},
   "source": [
    "Finding the previous business day - the default number of business days to subtract is 1, thus it is not necessary to pass 1 to the function"
   ]
  },
  {
   "cell_type": "code",
   "execution_count": null,
   "metadata": {},
   "outputs": [],
   "source": [
    "date3 = brbd.prev_br_bday(date1)\n",
    "print (date3)"
   ]
  },
  {
   "cell_type": "markdown",
   "metadata": {},
   "source": [
    "Finding the date that is n bussines days backward"
   ]
  },
  {
   "cell_type": "code",
   "execution_count": null,
   "metadata": {},
   "outputs": [],
   "source": [
    "n = -3\n",
    "date3 = brbd.prev_br_bday(date1,n)\n",
    "print (date3)"
   ]
  },
  {
   "cell_type": "markdown",
   "metadata": {},
   "source": [
    "Asking is a date is a business day"
   ]
  },
  {
   "cell_type": "code",
   "execution_count": null,
   "metadata": {},
   "outputs": [],
   "source": [
    "date1 = pd.to_datetime('2022-09-06')  # True - it is a business day\n",
    "is_bday = brbd.is_br_bday(date1)   \n",
    "if is_bday:\n",
    "    print('{date1} is a business day in Brazil'.format(date1=date1.strftime('%d/%m/%Y')))\n",
    "else:\n",
    "    print('{date1} is not a business day in Brazil'.format(date1=date1.strftime('%d/%m/%Y')))\n",
    "    next_bday = brbd.next_br_bday(date1)\n",
    "    print('The first business day after {date1} is {date2}'.format(date1=date1.strftime('%d/%m/%Y'), date2=next_bday.strftime('%d/%m/%Y')))  \n"
   ]
  },
  {
   "cell_type": "code",
   "execution_count": null,
   "metadata": {},
   "outputs": [],
   "source": [
    "date1 = pd.to_datetime('2022-07-30') # False - it is a Saturday\n",
    "is_bday = brbd.is_br_bday(date1)   \n",
    "if is_bday:\n",
    "    print('{date1} is a business day in Brazil'.format(date1=date1.strftime('%d/%m/%Y')))\n",
    "else:\n",
    "    print('{date1} is not a business day in Brazil'.format(date1=date1.strftime('%d/%m/%Y')))\n",
    "    next_bday = brbd.next_br_bday(date1)\n",
    "    print('The first business day after {date1} is {date2}'.format(date1=date1.strftime('%d/%m/%Y'), date2=next_bday.strftime('%d/%m/%Y')))  \n"
   ]
  },
  {
   "cell_type": "code",
   "execution_count": null,
   "metadata": {},
   "outputs": [],
   "source": [
    "date1 = pd.to_datetime('2022-09-07')   # False - it is Brazil's Independence Day\n",
    "is_bday = brbd.is_br_bday(date1)   \n",
    "if is_bday:\n",
    "    print('{date1} is a business day in Brazil'.format(date1=date1.strftime('%d/%m/%Y')))\n",
    "else:\n",
    "    print('{date1} is not a business day in Brazil'.format(date1=date1.strftime('%d/%m/%Y')))\n",
    "    next_bday = brbd.next_br_bday(date1)\n",
    "    print('The first business day after {date1} is {date2}'.format(date1=date1.strftime('%d/%m/%Y'), date2=next_bday.strftime('%d/%m/%Y')))  \n"
   ]
  },
  {
   "cell_type": "markdown",
   "metadata": {},
   "source": [
    "#### 4. IPCA - Brazilian official inflation index\n"
   ]
  },
  {
   "cell_type": "code",
   "execution_count": null,
   "metadata": {},
   "outputs": [],
   "source": [
    "import pandas as pd\n",
    "import ipca\n",
    "\n",
    "path_ipca = 'D:\\Investiments\\Databases\\Indexes\\IPCA.csv'"
   ]
  },
  {
   "cell_type": "markdown",
   "metadata": {},
   "source": [
    "##### Downloading the IPCA rates from the IBGE API and updating the cumulative return"
   ]
  },
  {
   "cell_type": "code",
   "execution_count": null,
   "metadata": {},
   "outputs": [],
   "source": [
    "\n",
    "ipca.update_ipca_db(path_ipca)"
   ]
  },
  {
   "cell_type": "code",
   "execution_count": null,
   "metadata": {},
   "outputs": [],
   "source": [
    "df_ipca = ipca.load_ipca(path_ipca)"
   ]
  },
  {
   "cell_type": "markdown",
   "metadata": {},
   "source": [
    "##### Calculating values indexed to IPCA"
   ]
  },
  {
   "cell_type": "code",
   "execution_count": null,
   "metadata": {},
   "outputs": [],
   "source": [
    "date1 = pd.to_datetime('20220422')\n",
    "date2 = pd.to_datetime('20220601')\n",
    "ini_amount = 39208600.79\n",
    "end_amount = ini_amount * ipca.ipca_accum(df_ipca, date1, date2)\n",
    "print('End amount = {:,}'.format(end_amount))"
   ]
  },
  {
   "cell_type": "markdown",
   "metadata": {},
   "source": [
    "#### 5. BRL/USD"
   ]
  },
  {
   "cell_type": "code",
   "execution_count": 1,
   "metadata": {},
   "outputs": [],
   "source": [
    "import pandas as pd\n",
    "import bacen as bc\n",
    "import br_workdays as wd\n",
    "import fxrates as fx\n",
    "\n",
    "db_path='D:\\Investiments\\Databases\\Indexes\\BRLUSD.csv'\n"
   ]
  },
  {
   "cell_type": "code",
   "execution_count": 3,
   "metadata": {},
   "outputs": [],
   "source": [
    "fx.update_brlusd_db(db_path)\n",
    "df_brlusd = fx.load_brlusd(db_path)"
   ]
  },
  {
   "cell_type": "code",
   "execution_count": 4,
   "metadata": {},
   "outputs": [
    {
     "data": {
      "text/html": [
       "<div>\n",
       "<style scoped>\n",
       "    .dataframe tbody tr th:only-of-type {\n",
       "        vertical-align: middle;\n",
       "    }\n",
       "\n",
       "    .dataframe tbody tr th {\n",
       "        vertical-align: top;\n",
       "    }\n",
       "\n",
       "    .dataframe thead th {\n",
       "        text-align: right;\n",
       "    }\n",
       "</style>\n",
       "<table border=\"1\" class=\"dataframe\">\n",
       "  <thead>\n",
       "    <tr style=\"text-align: right;\">\n",
       "      <th></th>\n",
       "      <th>BRLUSD</th>\n",
       "    </tr>\n",
       "    <tr>\n",
       "      <th>TradeDate</th>\n",
       "      <th></th>\n",
       "    </tr>\n",
       "  </thead>\n",
       "  <tbody>\n",
       "    <tr>\n",
       "      <th>2022-07-28</th>\n",
       "      <td>5.2149</td>\n",
       "    </tr>\n",
       "    <tr>\n",
       "      <th>2022-07-29</th>\n",
       "      <td>5.1884</td>\n",
       "    </tr>\n",
       "    <tr>\n",
       "      <th>2022-08-01</th>\n",
       "      <td>5.1606</td>\n",
       "    </tr>\n",
       "    <tr>\n",
       "      <th>2022-08-02</th>\n",
       "      <td>5.2329</td>\n",
       "    </tr>\n",
       "    <tr>\n",
       "      <th>2022-08-03</th>\n",
       "      <td>5.2846</td>\n",
       "    </tr>\n",
       "  </tbody>\n",
       "</table>\n",
       "</div>"
      ],
      "text/plain": [
       "            BRLUSD\n",
       "TradeDate         \n",
       "2022-07-28  5.2149\n",
       "2022-07-29  5.1884\n",
       "2022-08-01  5.1606\n",
       "2022-08-02  5.2329\n",
       "2022-08-03  5.2846"
      ]
     },
     "execution_count": 4,
     "metadata": {},
     "output_type": "execute_result"
    }
   ],
   "source": [
    "df_brlusd.tail()"
   ]
  },
  {
   "cell_type": "code",
   "execution_count": 5,
   "metadata": {},
   "outputs": [
    {
     "name": "stdout",
     "output_type": "stream",
     "text": [
      "End amount = 938,500.0621570265\n"
     ]
    }
   ],
   "source": [
    "date1 = pd.to_datetime('20220103')\n",
    "date2 = pd.to_datetime('20220803')\n",
    "ini_amount = 1000000.00\n",
    "end_amount = ini_amount * fx.brlusd_accum(df_brlusd, date1, date2)\n",
    "print('End amount = {:,}'.format(end_amount))"
   ]
  }
 ],
 "metadata": {
  "kernelspec": {
   "display_name": "Python 3.10.5 ('Venv1': venv)",
   "language": "python",
   "name": "python3"
  },
  "language_info": {
   "codemirror_mode": {
    "name": "ipython",
    "version": 3
   },
   "file_extension": ".py",
   "mimetype": "text/x-python",
   "name": "python",
   "nbconvert_exporter": "python",
   "pygments_lexer": "ipython3",
   "version": "3.10.5"
  },
  "orig_nbformat": 4,
  "vscode": {
   "interpreter": {
    "hash": "578b54580852c8f3f942ce9823d34fceda592a2ee81225501e430f36dd9de2ac"
   }
  }
 },
 "nbformat": 4,
 "nbformat_minor": 2
}
